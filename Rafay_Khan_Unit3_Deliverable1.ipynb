{
 "cells": [
  {
   "cell_type": "markdown",
   "metadata": {},
   "source": [
    "# NLP With Hotel Review - Rafay Khan"
   ]
  },
  {
   "cell_type": "markdown",
   "metadata": {},
   "source": [
    "## Table of Contents:\n",
    "* [Introduction](#intro)\n",
    "* [Data Dictionary](#data-dictionary)\n",
    "* [Imports and Sanity Checks](#imps)\n",
    "* [Explanatory Data Analysis](#EDA)\n",
    "* [Preprocessing](#Prep)\n",
    "* [Modelling: ](#Model)\n",
    "    [Logistical Regression](#LR)\n",
    "    [PCA & Descion Tree Pipeline](#Pipe)\n",
    "* [Conclusion](#Con)"
   ]
  },
  {
   "cell_type": "markdown",
   "metadata": {},
   "source": [
    "## Introduction <a class=\"anchor\" id=\"intro\"></a>"
   ]
  },
  {
   "cell_type": "markdown",
   "metadata": {},
   "source": [
    "Hotel Management Inc. has tasked us with uncovering the key factors influencing customer satisfaction and ratings in hotel stays. Leveraging a comprehensive dataset containing both textual reviews and stay details, our goal is to perform a thorough analysis, develop predictive models, and derive actionable insights. The dataset includes features such as hotel location, duration of stay, and reviewer sentiments encoded in the Reviewer_Score column.\n",
    "\n",
    "Our approach begins with an Exploratory Data Analysis (EDA), where we aim to gain a deep understanding of the dataset's characteristics. This involves creating a data dictionary, conducting basic statistical analyses, visualizations, and data preprocessing steps to prepare the data for modeling. During preprocessing, we focus on text data, employing CountVectorizer to transform positive and negative reviews into features for further analysis.\n",
    "\n",
    "Following EDA and preprocessing, we delve into modeling. Initially, we fit a logistic regression model to the data, assessing train and test accuracies. We then identify the top 20 words from positive and negative reviews that most strongly predict their respective sentiments, extracting valuable insights.\n",
    "\n",
    "Subsequently, a pipeline is constructed, combining Principal Component Analysis (PCA) with a decision tree classifier. Hyperparameter optimization, including tree depth and minimum leaf node requirements, is performed via 5-fold cross-validation. The results are contrasted with the logistic regression model, providing insights into model performance.\n",
    "\n",
    "For the best-performing model, a comprehensive evaluation is conducted, analyzing the confusion matrix and metrics such as precision and recall. This detailed assessment aims to uncover model errors and further enhance our understanding of predictive capabilities.\n",
    "\n",
    "The document is structured to allow for a comprehensive understanding of our process, insights, and findings without the need to delve into the raw code."
   ]
  },
  {
   "cell_type": "markdown",
   "metadata": {},
   "source": [
    "## Imports and Sanity Checks <a class=\"anchor\" id=\"imps\"></a>"
   ]
  },
  {
   "cell_type": "code",
   "execution_count": 132,
   "metadata": {},
   "outputs": [],
   "source": [
    "import numpy as np\n",
    "import pandas as pd\n",
    "import matplotlib.pyplot as plt\n",
    "import seaborn as sns\n",
    "\n",
    "\n",
    "from sklearn.model_selection import train_test_split\n",
    "from sklearn.feature_extraction.text import CountVectorizer\n",
    "from sklearn.linear_model import LogisticRegression\n",
    "from sklearn.pipeline import Pipeline\n",
    "from sklearn.model_selection import GridSearchCV\n",
    "from sklearn.tree import DecisionTreeClassifier\n",
    "from sklearn.decomposition import PCA\n",
    "from sklearn.metrics import classification_report, confusion_matrix, ConfusionMatrixDisplay\n",
    "from sklearn.model_selection import cross_val_score\n",
    "from sklearn import metrics\n",
    "import warnings\n",
    "warnings.filterwarnings('ignore')\n",
    "\n",
    "from scipy.sparse import csr_matrix, hstack\n",
    "from sklearn.pipeline import FeatureUnion"
   ]
  },
  {
   "cell_type": "markdown",
   "metadata": {},
   "source": [
    "## Data Dictionary <a class=\"anchor\" id=\"data-dictionary\"></a>"
   ]
  },
  {
   "cell_type": "markdown",
   "metadata": {},
   "source": [
    "The dataset at hand encompasses a wealth of information, specifically revolving around customer reviews for hotels. Each record within the dataset corresponds to an individual review, capturing a spectrum of details pertaining to the hotel, reviewer, and the review itself. This data dictionary serves as a crucial reference for comprehending the significance and characteristics of each column in the dataset, shedding light on the types of information available and the manner in which it is formatted. Ranging from unique identifiers like \"Unnamed: 0\" which indexes all the reviews to indicators reflecting reviewer nationality, hotel location, and various facets of the reviews, the dataset presents a diverse array of features. These features include numerical ratings, textual reviews, geographical coordinates, and categorical indicators, providing a comprehensive foundation for delving into the factors influencing customer sentiments, reviewer demographics, and hotel attributes. This data dictionary is designed to facilitate a clear comprehension of the dataset's composition, setting the stage for rigorous analysis and meaningful interpretation of the hotel reviews dataset."
   ]
  },
  {
   "cell_type": "markdown",
   "metadata": {},
   "source": [
    "    Unnamed: 0\n",
    "        Data Type: Integer (int64)\n",
    "        Description: An identifier for the reviews (index element I think).\n",
    "\n",
    "    Additional_Number_of_Scoring\n",
    "        Data Type: Integer (int64)\n",
    "        Description: Additional scoring associated with the hotel.\n",
    "\n",
    "    Average_Score\n",
    "        Data Type: Float (float64)\n",
    "        Description: The average score given by reviewers for the hotel.\n",
    "\n",
    "    Negative_Review\n",
    "        Data Type: Object (String)\n",
    "        Description: The text of the negative review given by customers.\n",
    "\n",
    "    Review_Total_Negative_Word_Counts\n",
    "        Data Type: Integer (int64)\n",
    "        Description: The total number of words in the negative review.\n",
    "\n",
    "    Total_Number_of_Reviews\n",
    "        Data Type: Integer (int64)\n",
    "        Description: The total number of reviews for the hotel.\n",
    "\n",
    "    Positive_Review\n",
    "        Data Type: Object (String)\n",
    "        Description: The text of the positive review given by customers.\n",
    "\n",
    "    Review_Total_Positive_Word_Counts\n",
    "        Data Type: Integer (int64)\n",
    "        Description: The total number of words in the positive review.\n",
    "\n",
    "    Total_Number_of_Reviews_Reviewer_Has_Given\n",
    "        Data Type: Integer (int64)\n",
    "        Description: The total number of reviews the reviewer has given.\n",
    "\n",
    "    Reviewer_Score\n",
    "        Data Type: Integer (int64)\n",
    "        Description: The score given by the reviewer.\n",
    "\n",
    "    Days_Since_Review\n",
    "        Data Type: Integer (int64)\n",
    "        Description: The number of days since the review was given.\n",
    "\n",
    "    Latitude\n",
    "        Data Type: Float (float64)\n",
    "        Description: The latitude coordinate of the hotel.\n",
    "\n",
    "    Longitude\n",
    "        Data Type: Float (float64)\n",
    "        Description: The longitude coordinate of the hotel.\n",
    "\n",
    "    Day\n",
    "        Data Type: Integer (int64)\n",
    "        Description: The day when the review was given.\n",
    "\n",
    "    Month\n",
    "        Data Type: Integer (int64)\n",
    "        Description: The month when the review was given.\n",
    "\n",
    "    Year\n",
    "        Data Type: Integer (int64)\n",
    "        Description: The year when the review was given.\n",
    "\n",
    "    Reviewer_Nationality_Australia\n",
    "        Data Type: Integer (int64)\n",
    "        Description: Binary indicator (1 or 0) for whether the reviewer is from Australia.\n",
    "\n",
    "    Reviewer_Nationality_Ireland\n",
    "        Data Type: Integer (int64)\n",
    "        Description: Binary indicator (1 or 0) for whether the reviewer is from Ireland.\n",
    "\n",
    "    Reviewer_Nationality_UAE\n",
    "        Data Type: Integer (int64)\n",
    "        Description: Binary indicator (1 or 0) for whether the reviewer is from the UAE.\n",
    "\n",
    "    Reviewer_Nationality_UK\n",
    "        Data Type: Integer (int64)\n",
    "        Description: Binary indicator (1 or 0) for whether the reviewer is from the UK.\n",
    "\n",
    "    Reviewer_Nationality_USA\n",
    "        Data Type: Integer (int64)\n",
    "        Description: Binary indicator (1 or 0) for whether the reviewer is from the USA.\n",
    "\n",
    "    Reviewer_Nationality_Other\n",
    "        Data Type: Integer (int64)\n",
    "        Description: Binary indicator (1 or 0) for whether the reviewer is from a nationality other than the specified ones.\n",
    "\n",
    "    Hotel_Address_Amsterdam\n",
    "        Data Type: Integer (int64)\n",
    "        Description: Binary indicator (1 or 0) for whether the hotel is located in Amsterdam.\n",
    "\n",
    "    Hotel_Address_Barcelona\n",
    "        Data Type: Integer (int64)\n",
    "        Description: Binary indicator (1 or 0) for whether the hotel is located in Barcelona.\n",
    "\n",
    "    Hotel_Address_London\n",
    "        Data Type: Integer (int64)\n",
    "        Description: Binary indicator (1 or 0) for whether the hotel is located in London.\n",
    "\n",
    "    Hotel_Address_Milan\n",
    "        Data Type: Integer (int64)\n",
    "        Description: Binary indicator (1 or 0) for whether the hotel is located in Milan.\n",
    "\n",
    "    Hotel_Address_Paris\n",
    "        Data Type: Integer (int64)\n",
    "        Description: Binary indicator (1 or 0) for whether the hotel is located in Paris.\n",
    "\n",
    "    Hotel_Address_Vienna\n",
    "        Data Type: Integer (int64)\n",
    "        Description: Binary indicator (1 or 0) for whether the hotel is located in Vienna.\n",
    "\n",
    "    Leisure_Trip\n",
    "        Data Type: Integer (int64)\n",
    "        Description: Binary indicator (1 or 0) for whether the trip was for leisure.\n",
    "\n",
    "    Nights_Stayed\n",
    "        Data Type: Integer (int64)\n",
    "        Description: The number of nights stayed during the trip."
   ]
  },
  {
   "cell_type": "markdown",
   "metadata": {},
   "source": [
    "## Exploratory Data Analysis <a class=\"anchor\" id=\"EDA\"></a>"
   ]
  },
  {
   "cell_type": "code",
   "execution_count": 125,
   "metadata": {},
   "outputs": [],
   "source": [
    "# Reading in the data\n",
    "hotel_reviews = pd.read_csv('data/Hotel_Reviews.csv')"
   ]
  },
  {
   "cell_type": "code",
   "execution_count": 126,
   "metadata": {},
   "outputs": [
    {
     "data": {
      "text/html": [
       "<div>\n",
       "<style scoped>\n",
       "    .dataframe tbody tr th:only-of-type {\n",
       "        vertical-align: middle;\n",
       "    }\n",
       "\n",
       "    .dataframe tbody tr th {\n",
       "        vertical-align: top;\n",
       "    }\n",
       "\n",
       "    .dataframe thead th {\n",
       "        text-align: right;\n",
       "    }\n",
       "</style>\n",
       "<table border=\"1\" class=\"dataframe\">\n",
       "  <thead>\n",
       "    <tr style=\"text-align: right;\">\n",
       "      <th></th>\n",
       "      <th>Unnamed: 0</th>\n",
       "      <th>Additional_Number_of_Scoring</th>\n",
       "      <th>Average_Score</th>\n",
       "      <th>Review_Total_Negative_Word_Counts</th>\n",
       "      <th>Total_Number_of_Reviews</th>\n",
       "      <th>Review_Total_Positive_Word_Counts</th>\n",
       "      <th>Total_Number_of_Reviews_Reviewer_Has_Given</th>\n",
       "      <th>Reviewer_Score</th>\n",
       "      <th>Days_Since_Review</th>\n",
       "      <th>Latitude</th>\n",
       "      <th>...</th>\n",
       "      <th>Reviewer_Nationality_USA</th>\n",
       "      <th>Reviewer_Nationality_Other</th>\n",
       "      <th>Hotel_Address_Amsterdam</th>\n",
       "      <th>Hotel_Address_Barcelona</th>\n",
       "      <th>Hotel_Address_London</th>\n",
       "      <th>Hotel_Address_Milan</th>\n",
       "      <th>Hotel_Address_Paris</th>\n",
       "      <th>Hotel_Address_Vienna</th>\n",
       "      <th>Leisure_Trip</th>\n",
       "      <th>Nights_Stayed</th>\n",
       "    </tr>\n",
       "  </thead>\n",
       "  <tbody>\n",
       "    <tr>\n",
       "      <th>count</th>\n",
       "      <td>515738.000000</td>\n",
       "      <td>515738.000000</td>\n",
       "      <td>515738.000000</td>\n",
       "      <td>515738.000000</td>\n",
       "      <td>515738.000000</td>\n",
       "      <td>515738.000000</td>\n",
       "      <td>515738.000000</td>\n",
       "      <td>515738.000000</td>\n",
       "      <td>515738.000000</td>\n",
       "      <td>515738.000000</td>\n",
       "      <td>...</td>\n",
       "      <td>515738.000000</td>\n",
       "      <td>515738.000000</td>\n",
       "      <td>515738.000000</td>\n",
       "      <td>515738.000000</td>\n",
       "      <td>515738.000000</td>\n",
       "      <td>515738.000000</td>\n",
       "      <td>515738.000000</td>\n",
       "      <td>515738.000000</td>\n",
       "      <td>515738.000000</td>\n",
       "      <td>515738.000000</td>\n",
       "    </tr>\n",
       "    <tr>\n",
       "      <th>mean</th>\n",
       "      <td>257868.500000</td>\n",
       "      <td>498.081836</td>\n",
       "      <td>8.397487</td>\n",
       "      <td>18.539450</td>\n",
       "      <td>2743.743944</td>\n",
       "      <td>17.776458</td>\n",
       "      <td>7.166001</td>\n",
       "      <td>0.570006</td>\n",
       "      <td>354.441932</td>\n",
       "      <td>49.432419</td>\n",
       "      <td>...</td>\n",
       "      <td>0.068711</td>\n",
       "      <td>0.365121</td>\n",
       "      <td>0.110936</td>\n",
       "      <td>0.116627</td>\n",
       "      <td>0.508594</td>\n",
       "      <td>0.072143</td>\n",
       "      <td>0.116199</td>\n",
       "      <td>0.075502</td>\n",
       "      <td>0.810059</td>\n",
       "      <td>2.362122</td>\n",
       "    </tr>\n",
       "    <tr>\n",
       "      <th>std</th>\n",
       "      <td>148880.880902</td>\n",
       "      <td>500.538467</td>\n",
       "      <td>0.548048</td>\n",
       "      <td>29.690831</td>\n",
       "      <td>2317.464868</td>\n",
       "      <td>21.804185</td>\n",
       "      <td>11.040228</td>\n",
       "      <td>0.495075</td>\n",
       "      <td>208.928124</td>\n",
       "      <td>3.460237</td>\n",
       "      <td>...</td>\n",
       "      <td>0.252963</td>\n",
       "      <td>0.481465</td>\n",
       "      <td>0.314053</td>\n",
       "      <td>0.320976</td>\n",
       "      <td>0.499927</td>\n",
       "      <td>0.258725</td>\n",
       "      <td>0.320463</td>\n",
       "      <td>0.264199</td>\n",
       "      <td>0.392255</td>\n",
       "      <td>1.646808</td>\n",
       "    </tr>\n",
       "    <tr>\n",
       "      <th>min</th>\n",
       "      <td>0.000000</td>\n",
       "      <td>1.000000</td>\n",
       "      <td>5.200000</td>\n",
       "      <td>0.000000</td>\n",
       "      <td>43.000000</td>\n",
       "      <td>0.000000</td>\n",
       "      <td>1.000000</td>\n",
       "      <td>0.000000</td>\n",
       "      <td>0.000000</td>\n",
       "      <td>41.328376</td>\n",
       "      <td>...</td>\n",
       "      <td>0.000000</td>\n",
       "      <td>0.000000</td>\n",
       "      <td>0.000000</td>\n",
       "      <td>0.000000</td>\n",
       "      <td>0.000000</td>\n",
       "      <td>0.000000</td>\n",
       "      <td>0.000000</td>\n",
       "      <td>0.000000</td>\n",
       "      <td>0.000000</td>\n",
       "      <td>1.000000</td>\n",
       "    </tr>\n",
       "    <tr>\n",
       "      <th>25%</th>\n",
       "      <td>128934.250000</td>\n",
       "      <td>169.000000</td>\n",
       "      <td>8.100000</td>\n",
       "      <td>2.000000</td>\n",
       "      <td>1161.000000</td>\n",
       "      <td>5.000000</td>\n",
       "      <td>1.000000</td>\n",
       "      <td>0.000000</td>\n",
       "      <td>175.000000</td>\n",
       "      <td>48.214066</td>\n",
       "      <td>...</td>\n",
       "      <td>0.000000</td>\n",
       "      <td>0.000000</td>\n",
       "      <td>0.000000</td>\n",
       "      <td>0.000000</td>\n",
       "      <td>0.000000</td>\n",
       "      <td>0.000000</td>\n",
       "      <td>0.000000</td>\n",
       "      <td>0.000000</td>\n",
       "      <td>1.000000</td>\n",
       "      <td>1.000000</td>\n",
       "    </tr>\n",
       "    <tr>\n",
       "      <th>50%</th>\n",
       "      <td>257868.500000</td>\n",
       "      <td>341.000000</td>\n",
       "      <td>8.400000</td>\n",
       "      <td>9.000000</td>\n",
       "      <td>2134.000000</td>\n",
       "      <td>11.000000</td>\n",
       "      <td>3.000000</td>\n",
       "      <td>1.000000</td>\n",
       "      <td>353.000000</td>\n",
       "      <td>51.499981</td>\n",
       "      <td>...</td>\n",
       "      <td>0.000000</td>\n",
       "      <td>0.000000</td>\n",
       "      <td>0.000000</td>\n",
       "      <td>0.000000</td>\n",
       "      <td>1.000000</td>\n",
       "      <td>0.000000</td>\n",
       "      <td>0.000000</td>\n",
       "      <td>0.000000</td>\n",
       "      <td>1.000000</td>\n",
       "      <td>2.000000</td>\n",
       "    </tr>\n",
       "    <tr>\n",
       "      <th>75%</th>\n",
       "      <td>386802.750000</td>\n",
       "      <td>660.000000</td>\n",
       "      <td>8.800000</td>\n",
       "      <td>23.000000</td>\n",
       "      <td>3613.000000</td>\n",
       "      <td>22.000000</td>\n",
       "      <td>8.000000</td>\n",
       "      <td>1.000000</td>\n",
       "      <td>527.000000</td>\n",
       "      <td>51.516288</td>\n",
       "      <td>...</td>\n",
       "      <td>0.000000</td>\n",
       "      <td>1.000000</td>\n",
       "      <td>0.000000</td>\n",
       "      <td>0.000000</td>\n",
       "      <td>1.000000</td>\n",
       "      <td>0.000000</td>\n",
       "      <td>0.000000</td>\n",
       "      <td>0.000000</td>\n",
       "      <td>1.000000</td>\n",
       "      <td>3.000000</td>\n",
       "    </tr>\n",
       "    <tr>\n",
       "      <th>max</th>\n",
       "      <td>515737.000000</td>\n",
       "      <td>2682.000000</td>\n",
       "      <td>9.800000</td>\n",
       "      <td>408.000000</td>\n",
       "      <td>16670.000000</td>\n",
       "      <td>395.000000</td>\n",
       "      <td>355.000000</td>\n",
       "      <td>1.000000</td>\n",
       "      <td>730.000000</td>\n",
       "      <td>52.400181</td>\n",
       "      <td>...</td>\n",
       "      <td>1.000000</td>\n",
       "      <td>1.000000</td>\n",
       "      <td>1.000000</td>\n",
       "      <td>1.000000</td>\n",
       "      <td>1.000000</td>\n",
       "      <td>1.000000</td>\n",
       "      <td>1.000000</td>\n",
       "      <td>1.000000</td>\n",
       "      <td>1.000000</td>\n",
       "      <td>31.000000</td>\n",
       "    </tr>\n",
       "  </tbody>\n",
       "</table>\n",
       "<p>8 rows × 28 columns</p>\n",
       "</div>"
      ],
      "text/plain": [
       "          Unnamed: 0  Additional_Number_of_Scoring  Average_Score  \\\n",
       "count  515738.000000                 515738.000000  515738.000000   \n",
       "mean   257868.500000                    498.081836       8.397487   \n",
       "std    148880.880902                    500.538467       0.548048   \n",
       "min         0.000000                      1.000000       5.200000   \n",
       "25%    128934.250000                    169.000000       8.100000   \n",
       "50%    257868.500000                    341.000000       8.400000   \n",
       "75%    386802.750000                    660.000000       8.800000   \n",
       "max    515737.000000                   2682.000000       9.800000   \n",
       "\n",
       "       Review_Total_Negative_Word_Counts  Total_Number_of_Reviews  \\\n",
       "count                      515738.000000            515738.000000   \n",
       "mean                           18.539450              2743.743944   \n",
       "std                            29.690831              2317.464868   \n",
       "min                             0.000000                43.000000   \n",
       "25%                             2.000000              1161.000000   \n",
       "50%                             9.000000              2134.000000   \n",
       "75%                            23.000000              3613.000000   \n",
       "max                           408.000000             16670.000000   \n",
       "\n",
       "       Review_Total_Positive_Word_Counts  \\\n",
       "count                      515738.000000   \n",
       "mean                           17.776458   \n",
       "std                            21.804185   \n",
       "min                             0.000000   \n",
       "25%                             5.000000   \n",
       "50%                            11.000000   \n",
       "75%                            22.000000   \n",
       "max                           395.000000   \n",
       "\n",
       "       Total_Number_of_Reviews_Reviewer_Has_Given  Reviewer_Score  \\\n",
       "count                               515738.000000   515738.000000   \n",
       "mean                                     7.166001        0.570006   \n",
       "std                                     11.040228        0.495075   \n",
       "min                                      1.000000        0.000000   \n",
       "25%                                      1.000000        0.000000   \n",
       "50%                                      3.000000        1.000000   \n",
       "75%                                      8.000000        1.000000   \n",
       "max                                    355.000000        1.000000   \n",
       "\n",
       "       Days_Since_Review       Latitude  ...  Reviewer_Nationality_USA  \\\n",
       "count      515738.000000  515738.000000  ...             515738.000000   \n",
       "mean          354.441932      49.432419  ...                  0.068711   \n",
       "std           208.928124       3.460237  ...                  0.252963   \n",
       "min             0.000000      41.328376  ...                  0.000000   \n",
       "25%           175.000000      48.214066  ...                  0.000000   \n",
       "50%           353.000000      51.499981  ...                  0.000000   \n",
       "75%           527.000000      51.516288  ...                  0.000000   \n",
       "max           730.000000      52.400181  ...                  1.000000   \n",
       "\n",
       "       Reviewer_Nationality_Other  Hotel_Address_Amsterdam  \\\n",
       "count               515738.000000            515738.000000   \n",
       "mean                     0.365121                 0.110936   \n",
       "std                      0.481465                 0.314053   \n",
       "min                      0.000000                 0.000000   \n",
       "25%                      0.000000                 0.000000   \n",
       "50%                      0.000000                 0.000000   \n",
       "75%                      1.000000                 0.000000   \n",
       "max                      1.000000                 1.000000   \n",
       "\n",
       "       Hotel_Address_Barcelona  Hotel_Address_London  Hotel_Address_Milan  \\\n",
       "count            515738.000000         515738.000000        515738.000000   \n",
       "mean                  0.116627              0.508594             0.072143   \n",
       "std                   0.320976              0.499927             0.258725   \n",
       "min                   0.000000              0.000000             0.000000   \n",
       "25%                   0.000000              0.000000             0.000000   \n",
       "50%                   0.000000              1.000000             0.000000   \n",
       "75%                   0.000000              1.000000             0.000000   \n",
       "max                   1.000000              1.000000             1.000000   \n",
       "\n",
       "       Hotel_Address_Paris  Hotel_Address_Vienna   Leisure_Trip  Nights_Stayed  \n",
       "count        515738.000000         515738.000000  515738.000000  515738.000000  \n",
       "mean              0.116199              0.075502       0.810059       2.362122  \n",
       "std               0.320463              0.264199       0.392255       1.646808  \n",
       "min               0.000000              0.000000       0.000000       1.000000  \n",
       "25%               0.000000              0.000000       1.000000       1.000000  \n",
       "50%               0.000000              0.000000       1.000000       2.000000  \n",
       "75%               0.000000              0.000000       1.000000       3.000000  \n",
       "max               1.000000              1.000000       1.000000      31.000000  \n",
       "\n",
       "[8 rows x 28 columns]"
      ]
     },
     "execution_count": 126,
     "metadata": {},
     "output_type": "execute_result"
    }
   ],
   "source": [
    "hotel_reviews.describe()"
   ]
  },
  {
   "cell_type": "code",
   "execution_count": 128,
   "metadata": {},
   "outputs": [
    {
     "data": {
      "text/plain": [
       "(515738, 30)"
      ]
     },
     "execution_count": 128,
     "metadata": {},
     "output_type": "execute_result"
    }
   ],
   "source": [
    "hotel_reviews.shape"
   ]
  },
  {
   "cell_type": "code",
   "execution_count": 142,
   "metadata": {
    "scrolled": false
   },
   "outputs": [
    {
     "data": {
      "image/png": "[encoded data removed]",
      "text/plain": [
       "<Figure size 1296x576 with 1 Axes>"
      ]
     },
     "metadata": {
      "needs_background": "light"
     },
     "output_type": "display_data"
    }
   ],
   "source": [
    "plt.figure(figsize=(18,8))\n",
    "plt.hist(x=hotel_reviews.Average_Score, bins = 20)\n",
    "plt.title(\"Analysis of Average Score Distribution\");"
   ]
  },
  {
   "cell_type": "markdown",
   "metadata": {},
   "source": [
    "### Analysis"
   ]
  },
  {
   "cell_type": "markdown",
   "metadata": {},
   "source": [
    "Key observations include the maximum average hotel score at 9.8, with customers generally averaging around 8.3. Notably, upset customers tend to have longer and more indepth reviews describing their specfic probelms. Reviewing activities peak in the middle of the month, coinciding with instances when customers give their highest scores.\n",
    "\n",
    "The data set comprises 30 columns and 515,738 reviews given to the various hotels around the world belonging to Hotel Inc. Based on the one-hot encoded columns we can see that the hotels are located in six cities: Amsterdam, Barcelona, London, Milan, PAris, and Vienna.\n",
    "\n",
    "The analysis of hotel review scores indicates a the normal distribution of average scores, revealing a right skew with the majority of rating falling between 8 & 9. This aligns with the earlier average score observation of 8.3, making it suitable for regression modeling since it follows a normalized gausian distribution."
   ]
  },
  {
   "cell_type": "markdown",
   "metadata": {},
   "source": [
    "## Pre-Processing <a class=\"anchor\" id=\"Prep\"></a>"
   ]
  },
  {
   "cell_type": "code",
   "execution_count": 5,
   "metadata": {},
   "outputs": [
    {
     "data": {
      "text/plain": [
       "0          I am so angry that i made this post available...\n",
       "1                                               No Negative\n",
       "2          Rooms are nice but for elderly a bit difficul...\n",
       "3          My room was dirty and I was afraid to walk ba...\n",
       "4          You When I booked with your company on line y...\n",
       "                                ...                        \n",
       "515733     no trolly or staff to help you take the lugga...\n",
       "515734             The hotel looks like 3 but surely not 4 \n",
       "515735     The ac was useless It was a hot week in vienn...\n",
       "515736                                          No Negative\n",
       "515737         I was in 3rd floor It didn t work Free Wife \n",
       "Name: Negative_Review, Length: 515738, dtype: object"
      ]
     },
     "execution_count": 5,
     "metadata": {},
     "output_type": "execute_result"
    }
   ],
   "source": [
    "hotel_reviews['Negative_Review']"
   ]
  },
  {
   "cell_type": "code",
   "execution_count": 6,
   "metadata": {},
   "outputs": [
    {
     "data": {
      "text/plain": [
       "0          Only the park outside of the hotel was beauti...\n",
       "1          No real complaints the hotel was great great ...\n",
       "2          Location was good and staff were ok It is cut...\n",
       "3          Great location in nice surroundings the bar a...\n",
       "4           Amazing location and building Romantic setting \n",
       "                                ...                        \n",
       "515733                                             location\n",
       "515734        Breakfast was ok and we got earlier check in \n",
       "515735                                          No Positive\n",
       "515736     The rooms are enormous and really comfortable...\n",
       "515737                                 staff was very kind \n",
       "Name: Positive_Review, Length: 515738, dtype: object"
      ]
     },
     "execution_count": 6,
     "metadata": {},
     "output_type": "execute_result"
    }
   ],
   "source": [
    "hotel_reviews['Positive_Review']"
   ]
  },
  {
   "cell_type": "code",
   "execution_count": 7,
   "metadata": {},
   "outputs": [
    {
     "data": {
      "text/plain": [
       "1    293974\n",
       "0    221764\n",
       "Name: Reviewer_Score, dtype: int64"
      ]
     },
     "execution_count": 7,
     "metadata": {},
     "output_type": "execute_result"
    }
   ],
   "source": [
    "# This shows us that this data set has relatively balanced classes or more generally a balanaced classification problem\n",
    "hotel_reviews['Reviewer_Score'].value_counts()"
   ]
  },
  {
   "cell_type": "code",
   "execution_count": 8,
   "metadata": {},
   "outputs": [],
   "source": [
    "XN = hotel_reviews['Negative_Review']\n",
    "XP = hotel_reviews['Positive_Review']\n",
    "y = hotel_reviews[\"Reviewer_Score\"] #Target as defined by our problem statement/client"
   ]
  },
  {
   "cell_type": "markdown",
   "metadata": {},
   "source": [
    "## Modeling <a class=\"anchor\" id=\"Model\"></a>"
   ]
  },
  {
   "cell_type": "code",
   "execution_count": 9,
   "metadata": {},
   "outputs": [
    {
     "name": "stdout",
     "output_type": "stream",
     "text": [
      "(361016,)\n",
      "(361016,)\n"
     ]
    }
   ],
   "source": [
    "# Split data in test and training parts\n",
    "XN_train, XN_test, yn_train, yn_test = train_test_split(XN, y, test_size = 0.3, random_state=1)\n",
    "XP_train, XP_test, yp_train, yp_test = train_test_split(XP, y, test_size = 0.3, random_state=1)\n",
    "\n",
    "print(XN_train.shape)\n",
    "print(XP_train.shape)"
   ]
  },
  {
   "cell_type": "code",
   "execution_count": 10,
   "metadata": {},
   "outputs": [],
   "source": [
    "#Nbagofwords = CountVectorizer(stop_words=\"english\",\n",
    "                              #min_df=10,\n",
    "                             #max_features=500)\n",
    "#Pbagofwords = CountVectorizer(stop_words=\"english\",\n",
    "                              #min_df=10,\n",
    "                             #max_features=500)\n",
    "\n",
    "# 2. Fit\n",
    "#Nbagofwords.fit(XN)\n",
    "\n",
    "# 3. Transform\n",
    "#XN_transformed = Nbagofwords.transform(XN)\n",
    "\n",
    "# 2. Fit\n",
    "#Pbagofwords.fit(XP)\n",
    "\n",
    "# 3. Transform\n",
    "#XP_transformed = Pbagofwords.transform(XP)\n"
   ]
  },
  {
   "cell_type": "markdown",
   "metadata": {},
   "source": [
    "We will be using a count vectorizer to not only split up the reviews in specfic words but also encode them as binary values to make logistic regressional analysis possible for sentiment analysis. We will also additionally eliminate any stop words from the english dictionary and set the minimum times a word has to occurr within the data set to 10 as well as limiting our total features to 500 as reccomended by Hotel Inc. Thsi should help speed up our model learn process and lessen the noise in our system"
   ]
  },
  {
   "cell_type": "code",
   "execution_count": 11,
   "metadata": {},
   "outputs": [],
   "source": [
    "# 1. Instantiate\n",
    "Nbagofwords = CountVectorizer(stop_words=\"english\",\n",
    "                              min_df=10,\n",
    "                             max_features=500)\n",
    "Pbagofwords = CountVectorizer(stop_words=\"english\",\n",
    "                              min_df=10,\n",
    "                             max_features=500)\n",
    "\n",
    "# 2. Fit\n",
    "Nbagofwords.fit(XN_train)\n",
    "\n",
    "# 3. Transform\n",
    "XN_train_transformed = Nbagofwords.transform(XN_train)\n",
    "XN_test_transformed = Nbagofwords.transform(XN_test)\n",
    "\n",
    "# 2. Fit\n",
    "Pbagofwords.fit(XP_train)\n",
    "\n",
    "# 3. Transform\n",
    "XP_train_transformed = Pbagofwords.transform(XP_train)\n",
    "XP_test_transformed = Pbagofwords.transform(XP_test)\n"
   ]
  },
  {
   "cell_type": "code",
   "execution_count": 12,
   "metadata": {},
   "outputs": [
    {
     "data": {
      "text/plain": [
       "500"
      ]
     },
     "execution_count": 12,
     "metadata": {},
     "output_type": "execute_result"
    }
   ],
   "source": [
    "# Validation\n",
    "len(Nbagofwords.get_feature_names())"
   ]
  },
  {
   "cell_type": "code",
   "execution_count": 13,
   "metadata": {},
   "outputs": [
    {
     "data": {
      "text/plain": [
       "500"
      ]
     },
     "execution_count": 13,
     "metadata": {},
     "output_type": "execute_result"
    }
   ],
   "source": [
    "# Validation\n",
    "len(Pbagofwords.get_feature_names())"
   ]
  },
  {
   "cell_type": "code",
   "execution_count": 143,
   "metadata": {},
   "outputs": [],
   "source": [
    "Nwords = Nbagofwords.get_feature_names()\n",
    "Pwords = Pbagofwords.get_feature_names()"
   ]
  },
  {
   "cell_type": "code",
   "execution_count": 15,
   "metadata": {},
   "outputs": [
    {
     "name": "stdout",
     "output_type": "stream",
     "text": [
      "['10', 'buffet', 'cool', 'excellent', 'high', 'longer', 'noise', 'public', 'smoking', 'trying']\n"
     ]
    }
   ],
   "source": [
    "# Sampling for testing to ensure that we can see specfic words and there relevant counts. \n",
    "#Allows us to roughly validate our initial parameters for the count vectorizer.\n",
    "words = Nbagofwords.get_feature_names()\n",
    "some_indices = range(1, 500, round(500/10)) # just pick some indices\n",
    "\n",
    "samples = [words[i] for i in some_indices]\n",
    "print(samples)"
   ]
  },
  {
   "cell_type": "code",
   "execution_count": 16,
   "metadata": {},
   "outputs": [
    {
     "data": {
      "text/html": [
       "<div>\n",
       "<style scoped>\n",
       "    .dataframe tbody tr th:only-of-type {\n",
       "        vertical-align: middle;\n",
       "    }\n",
       "\n",
       "    .dataframe tbody tr th {\n",
       "        vertical-align: top;\n",
       "    }\n",
       "\n",
       "    .dataframe thead th {\n",
       "        text-align: right;\n",
       "    }\n",
       "</style>\n",
       "<table border=\"1\" class=\"dataframe\">\n",
       "  <thead>\n",
       "    <tr style=\"text-align: right;\">\n",
       "      <th></th>\n",
       "      <th>10</th>\n",
       "      <th>buffet</th>\n",
       "      <th>cool</th>\n",
       "      <th>excellent</th>\n",
       "      <th>high</th>\n",
       "      <th>longer</th>\n",
       "      <th>noise</th>\n",
       "      <th>public</th>\n",
       "      <th>smoking</th>\n",
       "      <th>trying</th>\n",
       "    </tr>\n",
       "  </thead>\n",
       "  <tbody>\n",
       "    <tr>\n",
       "      <th>total_corpus_count</th>\n",
       "      <td>3512</td>\n",
       "      <td>1958</td>\n",
       "      <td>1020</td>\n",
       "      <td>1675</td>\n",
       "      <td>3794</td>\n",
       "      <td>1175</td>\n",
       "      <td>8277</td>\n",
       "      <td>1162</td>\n",
       "      <td>1325</td>\n",
       "      <td>1239</td>\n",
       "    </tr>\n",
       "  </tbody>\n",
       "</table>\n",
       "</div>"
      ],
      "text/plain": [
       "                      10  buffet  cool  excellent  high  longer  noise  \\\n",
       "total_corpus_count  3512    1958  1020       1675  3794    1175   8277   \n",
       "\n",
       "                    public  smoking  trying  \n",
       "total_corpus_count    1162     1325    1239  "
      ]
     },
     "metadata": {},
     "output_type": "display_data"
    }
   ],
   "source": [
    "counts = np.array(XN_train_transformed[:, some_indices].sum(axis = 0))\n",
    "display(pd.DataFrame({\"total_corpus_count\": counts[0]}, index=samples).T)"
   ]
  },
  {
   "cell_type": "code",
   "execution_count": 18,
   "metadata": {},
   "outputs": [],
   "source": [
    "#XN_transformed.toarray().sum(axis=0)"
   ]
  },
  {
   "cell_type": "code",
   "execution_count": 19,
   "metadata": {},
   "outputs": [],
   "source": [
    "#XP_transformed.toarray().sum(axis=0)"
   ]
  },
  {
   "cell_type": "code",
   "execution_count": 20,
   "metadata": {},
   "outputs": [
    {
     "data": {
      "image/png": "[encoded data removed]",
      "text/plain": [
       "<Figure size 1080x360 with 1 Axes>"
      ]
     },
     "metadata": {
      "needs_background": "light"
     },
     "output_type": "display_data"
    }
   ],
   "source": [
    "# Indicates the most common words used in Negative Reviews\n",
    "word_counts = pd.DataFrame(\n",
    "    {\"counts\": XN_train_transformed.toarray().sum(axis=0)},\n",
    "    index=Nbagofwords.get_feature_names()\n",
    ").sort_values(\"counts\", ascending=False)\n",
    "\n",
    "word_counts.head(20).plot(kind=\"bar\", figsize=(15, 5), legend=False)\n",
    "plt.title(\"Top 20 most frequently occurring words in Negative Reviews\")\n",
    "plt.ylabel(\"Count\")\n",
    "plt.xticks(rotation=45)\n",
    "plt.show()"
   ]
  },
  {
   "cell_type": "code",
   "execution_count": 21,
   "metadata": {},
   "outputs": [
    {
     "data": {
      "image/png": "[encoded data removed]",
      "text/plain": [
       "<Figure size 1080x360 with 1 Axes>"
      ]
     },
     "metadata": {
      "needs_background": "light"
     },
     "output_type": "display_data"
    }
   ],
   "source": [
    "# Indicates the most common words used in Positive Reviews\n",
    "word_counts = pd.DataFrame(\n",
    "    {\"counts\": XP_train_transformed.toarray().sum(axis=0)},\n",
    "    index=Pbagofwords.get_feature_names()\n",
    ").sort_values(\"counts\", ascending=False)\n",
    "\n",
    "word_counts.head(20).plot(kind=\"bar\", figsize=(15, 5), legend=False)\n",
    "plt.title(\"Top 20 most frequently occurring words in Positive Reviews\")\n",
    "plt.ylabel(\"Count\")\n",
    "plt.xticks(rotation=45)\n",
    "plt.show()"
   ]
  },
  {
   "cell_type": "code",
   "execution_count": 22,
   "metadata": {},
   "outputs": [],
   "source": [
    "#Concatonating data sets\n",
    "X_train_transformed = hstack((XN_train_transformed,XP_train_transformed))\n",
    "X_test_transformed = hstack((XN_test_transformed, XP_test_transformed))\n",
    "y_test = yn_test\n",
    "y_train = yn_train"
   ]
  },
  {
   "cell_type": "code",
   "execution_count": 83,
   "metadata": {
    "scrolled": false
   },
   "outputs": [
    {
     "data": {
      "text/plain": [
       "476161    True\n",
       "430631    True\n",
       "446954    True\n",
       "485855    True\n",
       "164671    True\n",
       "          ... \n",
       "491263    True\n",
       "267336    True\n",
       "470924    True\n",
       "491755    True\n",
       "128037    True\n",
       "Name: Reviewer_Score, Length: 361016, dtype: bool"
      ]
     },
     "execution_count": 83,
     "metadata": {},
     "output_type": "execute_result"
    }
   ],
   "source": [
    "# Dataset Validation\n",
    "yn_train == yp_train"
   ]
  },
  {
   "cell_type": "code",
   "execution_count": 24,
   "metadata": {},
   "outputs": [
    {
     "data": {
      "text/plain": [
       "356054    True\n",
       "395957    True\n",
       "468352    True\n",
       "281462    True\n",
       "498978    True\n",
       "          ... \n",
       "278548    True\n",
       "298811    True\n",
       "267403    True\n",
       "272130    True\n",
       "471301    True\n",
       "Name: Reviewer_Score, Length: 154722, dtype: bool"
      ]
     },
     "execution_count": 24,
     "metadata": {},
     "output_type": "execute_result"
    }
   ],
   "source": [
    "# Dataset Validation\n",
    "yn_test == yp_test"
   ]
  },
  {
   "cell_type": "markdown",
   "metadata": {},
   "source": [
    "### Logistical Regression <a class=\"anchor\" id=\"LR\"></a>"
   ]
  },
  {
   "cell_type": "code",
   "execution_count": 25,
   "metadata": {},
   "outputs": [
    {
     "name": "stdout",
     "output_type": "stream",
     "text": [
      "Train score: 0.7803033660557981\n",
      "Test score: 0.7812334380372539\n"
     ]
    }
   ],
   "source": [
    "# Fitting a model\n",
    "logreg = LogisticRegression(C = 0.1, random_state = 1)\n",
    "logreg.fit(X_train_transformed, y_train)\n",
    "\n",
    "# Training and test score\n",
    "print(f\"Train score: {logreg.score(X_train_transformed, y_train)}\")\n",
    "print(f\"Test score: {logreg.score(X_test_transformed, y_test)}\")"
   ]
  },
  {
   "cell_type": "code",
   "execution_count": 110,
   "metadata": {},
   "outputs": [],
   "source": [
    "estimators = [('reduce_dim', PCA(n_components=20)),\n",
    "              ('Logreg', LogisticRegression(random_state=1))]\n",
    "\n",
    "pipe1 = Pipeline(estimators) "
   ]
  },
  {
   "cell_type": "code",
   "execution_count": 111,
   "metadata": {},
   "outputs": [],
   "source": [
    "# Basic search to see what C values work best for the model in general without cross-valuation\n",
    "params = {'reduce_dim' : [PCA(n_components = 20), None],\n",
    "    'Logreg__C': [0.1, 1, 10, 100, 1000]}\n",
    "\n",
    "grid_search = GridSearchCV(pipe1, param_grid=params)"
   ]
  },
  {
   "cell_type": "code",
   "execution_count": 61,
   "metadata": {},
   "outputs": [
    {
     "name": "stdout",
     "output_type": "stream",
     "text": [
      "Wall time: 45min\n"
     ]
    }
   ],
   "source": [
    "%%time\n",
    "fitted_search = grid_search.fit(X_train_transformed.toarray(), y_train)"
   ]
  },
  {
   "cell_type": "code",
   "execution_count": 62,
   "metadata": {},
   "outputs": [
    {
     "name": "stdout",
     "output_type": "stream",
     "text": [
      "Wall time: 1.42 s\n"
     ]
    },
    {
     "data": {
      "text/plain": [
       "0.7812334380372539"
      ]
     },
     "execution_count": 62,
     "metadata": {},
     "output_type": "execute_result"
    }
   ],
   "source": [
    "%%time \n",
    "fitted_search.score(X_test_transformed.toarray(), y_test)"
   ]
  },
  {
   "cell_type": "code",
   "execution_count": 63,
   "metadata": {},
   "outputs": [
    {
     "data": {
      "text/plain": [
       "Pipeline(steps=[('reduce_dim', None), ('Logreg', LogisticRegression(C=0.1))])"
      ]
     },
     "execution_count": 63,
     "metadata": {},
     "output_type": "execute_result"
    }
   ],
   "source": [
    "fitted_search.best_estimator_"
   ]
  },
  {
   "cell_type": "code",
   "execution_count": 144,
   "metadata": {},
   "outputs": [],
   "source": [
    "# Just an alarm to let me know when code has completed running\n",
    "import winsound\n",
    "duration = 1000  # milliseconds\n",
    "freq = 440  # Hz\n",
    "winsound.Beep(freq, duration)"
   ]
  },
  {
   "cell_type": "code",
   "execution_count": 65,
   "metadata": {},
   "outputs": [
    {
     "data": {
      "text/plain": [
       "array([0.74478418, 0.77837548, 0.74543234, 0.77827853, 0.74547943,\n",
       "       0.77826468, 0.7454268 , 0.77828407, 0.74528553, 0.77827853])"
      ]
     },
     "execution_count": 65,
     "metadata": {},
     "output_type": "execute_result"
    }
   ],
   "source": [
    "# See hwo the model performed at various C Values\n",
    "fitted_search.cv_results_['mean_test_score']"
   ]
  },
  {
   "cell_type": "code",
   "execution_count": 26,
   "metadata": {},
   "outputs": [],
   "source": [
    "merged_features = FeatureUnion([('N', Nbagofwords),('P', Pbagofwords)])"
   ]
  },
  {
   "cell_type": "code",
   "execution_count": 27,
   "metadata": {},
   "outputs": [
    {
     "data": {
      "image/png": "[encoded data removed]",
      "text/plain": [
       "<Figure size 1080x360 with 1 Axes>"
      ]
     },
     "metadata": {
      "needs_background": "light"
     },
     "output_type": "display_data"
    }
   ],
   "source": [
    "# This way we can see how our model interprets the impact of each word and whcih count vectorizer object the word originated from\n",
    "word_counts = pd.DataFrame(\n",
    "    {\"coefficients\": logreg.coef_[0]},\n",
    "    index=merged_features.get_feature_names()\n",
    ").sort_values(\"coefficients\", ascending=False)\n",
    "\n",
    "word_counts.head(20).plot(kind=\"bar\", figsize=(15, 5), legend=False)\n",
    "plt.title(\"The 20 highest model coefficients indicating positive sentiment\")\n",
    "plt.ylabel(\"Coefficients\")\n",
    "plt.xticks(rotation=45)\n",
    "plt.show()"
   ]
  },
  {
   "cell_type": "code",
   "execution_count": 28,
   "metadata": {
    "scrolled": true
   },
   "outputs": [
    {
     "data": {
      "image/png": "[encoded data removed]",
      "text/plain": [
       "<Figure size 1080x360 with 1 Axes>"
      ]
     },
     "metadata": {
      "needs_background": "light"
     },
     "output_type": "display_data"
    }
   ],
   "source": [
    "word_counts.sort_values(\"coefficients\", ascending=True).head(20).plot(kind=\"bar\", figsize=(15, 5), legend=False)\n",
    "plt.title(\"The 20 lowest model coefficients indicating negative sentiment\")\n",
    "plt.ylabel(\"Coefficients\")\n",
    "plt.xticks(rotation=45)\n",
    "plt.show()"
   ]
  },
  {
   "cell_type": "code",
   "execution_count": null,
   "metadata": {},
   "outputs": [],
   "source": [
    "# Logistic Regression Cross Validation & HyperParameter Optimization for C \n",
    "%%time\n",
    "C_cross_validation_scores = []\n",
    "\n",
    "C_range = np.array([.00000001,.0000001,.000001,.00001,.0001,.001,.1,\\\n",
    "                1,10,100,1000,10000,100000,1000000,10000000,100000000,1000000000])\n",
    "\n",
    "#Do some cross validation\n",
    "for c in C_range:\n",
    "    LR_model = LogisticRegression(C=c,random_state=1)\n",
    "    \n",
    "    # the cross validation score (mean of scores from all folds)\n",
    "    cv_score = np.mean(cross_val_score(LR_model, X_train_transformed.toarray(), y_train, cv = 5))\n",
    "    \n",
    "    C_cross_validation_scores.append(cv_score)\n",
    "\n",
    "plt.figure()\n",
    "plt.plot(C_range, C_cross_validation_scores,label=\"Cross Validation Score\",marker='.')\n",
    "plt.legend()\n",
    "plt.xscale(\"log\")\n",
    "plt.xlabel('Regularization Parameter: C')\n",
    "plt.ylabel('Cross Validation Score')\n",
    "plt.grid()\n",
    "plt.show();"
   ]
  },
  {
   "cell_type": "code",
   "execution_count": null,
   "metadata": {},
   "outputs": [],
   "source": [
    "C_which_max = np.array(C_cross_validation_scores).argmax()\n",
    "\n",
    "print(\"The best model has C = \",C_range[C_which_max], 'with a performance of:', round(max(C_cross_validation_scores),4)*100, '%')"
   ]
  },
  {
   "cell_type": "markdown",
   "metadata": {},
   "source": [
    "### PCA & Descion Tree Pipeline <a class=\"anchor\" id=\"Pipe\"></a>"
   ]
  },
  {
   "cell_type": "code",
   "execution_count": 75,
   "metadata": {},
   "outputs": [],
   "source": [
    " estimators = [('reduce_dim', PCA(n_components=20)),\n",
    "              ('DT', DecisionTreeClassifier())]\n",
    "\n",
    "pipe = Pipeline(estimators)  "
   ]
  },
  {
   "cell_type": "code",
   "execution_count": 31,
   "metadata": {},
   "outputs": [
    {
     "data": {
      "text/plain": [
       "Pipeline(steps=[('reduce_dim', PCA(n_components=20)),\n",
       "                ('DT', DecisionTreeClassifier(max_depth=2))])"
      ]
     },
     "execution_count": 31,
     "metadata": {},
     "output_type": "execute_result"
    }
   ],
   "source": [
    "pipe.fit(X_train_transformed.toarray(), y_train)\n"
   ]
  },
  {
   "cell_type": "code",
   "execution_count": 32,
   "metadata": {},
   "outputs": [
    {
     "data": {
      "text/plain": [
       "0.6972376261940771"
      ]
     },
     "execution_count": 32,
     "metadata": {},
     "output_type": "execute_result"
    }
   ],
   "source": [
    "pipe.score(X_test_transformed.toarray(), y_test)"
   ]
  },
  {
   "cell_type": "code",
   "execution_count": 77,
   "metadata": {},
   "outputs": [],
   "source": [
    "params = {'DT__max_depth': [5, 10, 15, 20],\n",
    "         'DT__min_samples_leaf':  [1,5,10,15]}\n",
    "\n",
    "grid_search = GridSearchCV(pipe, param_grid=params)"
   ]
  },
  {
   "cell_type": "code",
   "execution_count": 78,
   "metadata": {},
   "outputs": [
    {
     "name": "stdout",
     "output_type": "stream",
     "text": [
      "Wall time: 1h 2min 2s\n"
     ]
    }
   ],
   "source": [
    "%%time\n",
    "fitted_search = grid_search.fit(X_train_transformed.toarray(), y_train)"
   ]
  },
  {
   "cell_type": "code",
   "execution_count": 79,
   "metadata": {},
   "outputs": [
    {
     "data": {
      "text/plain": [
       "0.7424606713977328"
      ]
     },
     "execution_count": 79,
     "metadata": {},
     "output_type": "execute_result"
    }
   ],
   "source": [
    "fitted_search.score(X_test_transformed.toarray(), y_test)"
   ]
  },
  {
   "cell_type": "code",
   "execution_count": 80,
   "metadata": {},
   "outputs": [
    {
     "data": {
      "text/plain": [
       "Pipeline(steps=[('reduce_dim', PCA(n_components=20)),\n",
       "                ('DT',\n",
       "                 DecisionTreeClassifier(max_depth=10, min_samples_leaf=15))])"
      ]
     },
     "execution_count": 80,
     "metadata": {},
     "output_type": "execute_result"
    }
   ],
   "source": [
    "fitted_search.best_estimator_"
   ]
  },
  {
   "cell_type": "code",
   "execution_count": 94,
   "metadata": {},
   "outputs": [],
   "source": [
    "# Just an alarm\n",
    "import winsound\n",
    "duration = 1000  # milliseconds\n",
    "freq = 440  # Hz\n",
    "winsound.Beep(freq, duration)"
   ]
  },
  {
   "cell_type": "code",
   "execution_count": 84,
   "metadata": {},
   "outputs": [
    {
     "data": {
      "text/plain": [
       "array([0.73246062, 0.73244954, 0.73246616, 0.73246339, 0.73988965,\n",
       "       0.7396819 , 0.73976777, 0.74069294, 0.72346101, 0.72133368,\n",
       "       0.7219874 , 0.72481552, 0.69832086, 0.69550934, 0.70367795,\n",
       "       0.71136183])"
      ]
     },
     "execution_count": 84,
     "metadata": {},
     "output_type": "execute_result"
    }
   ],
   "source": [
    "fitted_search.cv_results_['mean_test_score']"
   ]
  },
  {
   "cell_type": "markdown",
   "metadata": {},
   "source": [
    "Since we tested max depth and min leaf nodes with grid search we can now narrow our search to max_depth = 10 & min smaples[5,10, 15] as all of them were pretty close. This was done as when I ran the cross validation alongside an extended grid_search the command took nearly 3 hrs to run. This allows us to narrow our scope before implementing cross_validation into the mix"
   ]
  },
  {
   "cell_type": "code",
   "execution_count": 93,
   "metadata": {},
   "outputs": [
    {
     "ename": "ValueError",
     "evalue": "x and y must have same first dimension, but have shapes (17,) and (11,)",
     "output_type": "error",
     "traceback": [
      "\u001b[1;31m---------------------------------------------------------------------------\u001b[0m",
      "\u001b[1;31mValueError\u001b[0m                                Traceback (most recent call last)",
      "\u001b[1;32m<timed exec>\u001b[0m in \u001b[0;36m<module>\u001b[1;34m\u001b[0m\n",
      "\u001b[1;32m~\\anaconda3\\lib\\site-packages\\matplotlib\\pyplot.py\u001b[0m in \u001b[0;36mplot\u001b[1;34m(scalex, scaley, data, *args, **kwargs)\u001b[0m\n\u001b[0;32m   2794\u001b[0m     return gca().plot(\n\u001b[0;32m   2795\u001b[0m         *args, scalex=scalex, scaley=scaley, **({\"data\": data} if data\n\u001b[1;32m-> 2796\u001b[1;33m         is not None else {}), **kwargs)\n\u001b[0m\u001b[0;32m   2797\u001b[0m \u001b[1;33m\u001b[0m\u001b[0m\n\u001b[0;32m   2798\u001b[0m \u001b[1;33m\u001b[0m\u001b[0m\n",
      "\u001b[1;32m~\\anaconda3\\lib\\site-packages\\matplotlib\\axes\\_axes.py\u001b[0m in \u001b[0;36mplot\u001b[1;34m(self, scalex, scaley, data, *args, **kwargs)\u001b[0m\n\u001b[0;32m   1663\u001b[0m         \"\"\"\n\u001b[0;32m   1664\u001b[0m         \u001b[0mkwargs\u001b[0m \u001b[1;33m=\u001b[0m \u001b[0mcbook\u001b[0m\u001b[1;33m.\u001b[0m\u001b[0mnormalize_kwargs\u001b[0m\u001b[1;33m(\u001b[0m\u001b[0mkwargs\u001b[0m\u001b[1;33m,\u001b[0m \u001b[0mmlines\u001b[0m\u001b[1;33m.\u001b[0m\u001b[0mLine2D\u001b[0m\u001b[1;33m.\u001b[0m\u001b[0m_alias_map\u001b[0m\u001b[1;33m)\u001b[0m\u001b[1;33m\u001b[0m\u001b[1;33m\u001b[0m\u001b[0m\n\u001b[1;32m-> 1665\u001b[1;33m         \u001b[0mlines\u001b[0m \u001b[1;33m=\u001b[0m \u001b[1;33m[\u001b[0m\u001b[1;33m*\u001b[0m\u001b[0mself\u001b[0m\u001b[1;33m.\u001b[0m\u001b[0m_get_lines\u001b[0m\u001b[1;33m(\u001b[0m\u001b[1;33m*\u001b[0m\u001b[0margs\u001b[0m\u001b[1;33m,\u001b[0m \u001b[0mdata\u001b[0m\u001b[1;33m=\u001b[0m\u001b[0mdata\u001b[0m\u001b[1;33m,\u001b[0m \u001b[1;33m**\u001b[0m\u001b[0mkwargs\u001b[0m\u001b[1;33m)\u001b[0m\u001b[1;33m]\u001b[0m\u001b[1;33m\u001b[0m\u001b[1;33m\u001b[0m\u001b[0m\n\u001b[0m\u001b[0;32m   1666\u001b[0m         \u001b[1;32mfor\u001b[0m \u001b[0mline\u001b[0m \u001b[1;32min\u001b[0m \u001b[0mlines\u001b[0m\u001b[1;33m:\u001b[0m\u001b[1;33m\u001b[0m\u001b[1;33m\u001b[0m\u001b[0m\n\u001b[0;32m   1667\u001b[0m             \u001b[0mself\u001b[0m\u001b[1;33m.\u001b[0m\u001b[0madd_line\u001b[0m\u001b[1;33m(\u001b[0m\u001b[0mline\u001b[0m\u001b[1;33m)\u001b[0m\u001b[1;33m\u001b[0m\u001b[1;33m\u001b[0m\u001b[0m\n",
      "\u001b[1;32m~\\anaconda3\\lib\\site-packages\\matplotlib\\axes\\_base.py\u001b[0m in \u001b[0;36m__call__\u001b[1;34m(self, *args, **kwargs)\u001b[0m\n\u001b[0;32m    223\u001b[0m                 \u001b[0mthis\u001b[0m \u001b[1;33m+=\u001b[0m \u001b[0margs\u001b[0m\u001b[1;33m[\u001b[0m\u001b[1;36m0\u001b[0m\u001b[1;33m]\u001b[0m\u001b[1;33m,\u001b[0m\u001b[1;33m\u001b[0m\u001b[1;33m\u001b[0m\u001b[0m\n\u001b[0;32m    224\u001b[0m                 \u001b[0margs\u001b[0m \u001b[1;33m=\u001b[0m \u001b[0margs\u001b[0m\u001b[1;33m[\u001b[0m\u001b[1;36m1\u001b[0m\u001b[1;33m:\u001b[0m\u001b[1;33m]\u001b[0m\u001b[1;33m\u001b[0m\u001b[1;33m\u001b[0m\u001b[0m\n\u001b[1;32m--> 225\u001b[1;33m             \u001b[1;32myield\u001b[0m \u001b[1;32mfrom\u001b[0m \u001b[0mself\u001b[0m\u001b[1;33m.\u001b[0m\u001b[0m_plot_args\u001b[0m\u001b[1;33m(\u001b[0m\u001b[0mthis\u001b[0m\u001b[1;33m,\u001b[0m \u001b[0mkwargs\u001b[0m\u001b[1;33m)\u001b[0m\u001b[1;33m\u001b[0m\u001b[1;33m\u001b[0m\u001b[0m\n\u001b[0m\u001b[0;32m    226\u001b[0m \u001b[1;33m\u001b[0m\u001b[0m\n\u001b[0;32m    227\u001b[0m     \u001b[1;32mdef\u001b[0m \u001b[0mget_next_color\u001b[0m\u001b[1;33m(\u001b[0m\u001b[0mself\u001b[0m\u001b[1;33m)\u001b[0m\u001b[1;33m:\u001b[0m\u001b[1;33m\u001b[0m\u001b[1;33m\u001b[0m\u001b[0m\n",
      "\u001b[1;32m~\\anaconda3\\lib\\site-packages\\matplotlib\\axes\\_base.py\u001b[0m in \u001b[0;36m_plot_args\u001b[1;34m(self, tup, kwargs)\u001b[0m\n\u001b[0;32m    389\u001b[0m             \u001b[0mx\u001b[0m\u001b[1;33m,\u001b[0m \u001b[0my\u001b[0m \u001b[1;33m=\u001b[0m \u001b[0mindex_of\u001b[0m\u001b[1;33m(\u001b[0m\u001b[0mtup\u001b[0m\u001b[1;33m[\u001b[0m\u001b[1;33m-\u001b[0m\u001b[1;36m1\u001b[0m\u001b[1;33m]\u001b[0m\u001b[1;33m)\u001b[0m\u001b[1;33m\u001b[0m\u001b[1;33m\u001b[0m\u001b[0m\n\u001b[0;32m    390\u001b[0m \u001b[1;33m\u001b[0m\u001b[0m\n\u001b[1;32m--> 391\u001b[1;33m         \u001b[0mx\u001b[0m\u001b[1;33m,\u001b[0m \u001b[0my\u001b[0m \u001b[1;33m=\u001b[0m \u001b[0mself\u001b[0m\u001b[1;33m.\u001b[0m\u001b[0m_xy_from_xy\u001b[0m\u001b[1;33m(\u001b[0m\u001b[0mx\u001b[0m\u001b[1;33m,\u001b[0m \u001b[0my\u001b[0m\u001b[1;33m)\u001b[0m\u001b[1;33m\u001b[0m\u001b[1;33m\u001b[0m\u001b[0m\n\u001b[0m\u001b[0;32m    392\u001b[0m \u001b[1;33m\u001b[0m\u001b[0m\n\u001b[0;32m    393\u001b[0m         \u001b[1;32mif\u001b[0m \u001b[0mself\u001b[0m\u001b[1;33m.\u001b[0m\u001b[0mcommand\u001b[0m \u001b[1;33m==\u001b[0m \u001b[1;34m'plot'\u001b[0m\u001b[1;33m:\u001b[0m\u001b[1;33m\u001b[0m\u001b[1;33m\u001b[0m\u001b[0m\n",
      "\u001b[1;32m~\\anaconda3\\lib\\site-packages\\matplotlib\\axes\\_base.py\u001b[0m in \u001b[0;36m_xy_from_xy\u001b[1;34m(self, x, y)\u001b[0m\n\u001b[0;32m    268\u001b[0m         \u001b[1;32mif\u001b[0m \u001b[0mx\u001b[0m\u001b[1;33m.\u001b[0m\u001b[0mshape\u001b[0m\u001b[1;33m[\u001b[0m\u001b[1;36m0\u001b[0m\u001b[1;33m]\u001b[0m \u001b[1;33m!=\u001b[0m \u001b[0my\u001b[0m\u001b[1;33m.\u001b[0m\u001b[0mshape\u001b[0m\u001b[1;33m[\u001b[0m\u001b[1;36m0\u001b[0m\u001b[1;33m]\u001b[0m\u001b[1;33m:\u001b[0m\u001b[1;33m\u001b[0m\u001b[1;33m\u001b[0m\u001b[0m\n\u001b[0;32m    269\u001b[0m             raise ValueError(\"x and y must have same first dimension, but \"\n\u001b[1;32m--> 270\u001b[1;33m                              \"have shapes {} and {}\".format(x.shape, y.shape))\n\u001b[0m\u001b[0;32m    271\u001b[0m         \u001b[1;32mif\u001b[0m \u001b[0mx\u001b[0m\u001b[1;33m.\u001b[0m\u001b[0mndim\u001b[0m \u001b[1;33m>\u001b[0m \u001b[1;36m2\u001b[0m \u001b[1;32mor\u001b[0m \u001b[0my\u001b[0m\u001b[1;33m.\u001b[0m\u001b[0mndim\u001b[0m \u001b[1;33m>\u001b[0m \u001b[1;36m2\u001b[0m\u001b[1;33m:\u001b[0m\u001b[1;33m\u001b[0m\u001b[1;33m\u001b[0m\u001b[0m\n\u001b[0;32m    272\u001b[0m             raise ValueError(\"x and y can be no greater than 2-D, but have \"\n",
      "\u001b[1;31mValueError\u001b[0m: x and y must have same first dimension, but have shapes (17,) and (11,)"
     ]
    },
    {
     "data": {
      "image/png": "[encoded data removed]",
      "text/plain": [
       "<Figure size 432x288 with 1 Axes>"
      ]
     },
     "metadata": {
      "needs_background": "light"
     },
     "output_type": "display_data"
    }
   ],
   "source": [
    "%%time\n",
    "MS_cross_validation_scores = []\n",
    "\n",
    "Min_Samples_range = np.array([5,6,7,8,9,10,11,12,13,14,15])\n",
    "\n",
    "#Do some cross validation\n",
    "for ms in Min_Samples_range:\n",
    "    estimators = [('reduce_dim', PCA(n_components=20)),\n",
    "              ('DT', DecisionTreeClassifier(max_depth = 10,min_samples_leaf = ms, random_state = 1))]\n",
    "\n",
    "    pipe = Pipeline(estimators) \n",
    "    \n",
    "    \n",
    "    # the cross validation score (mean of scores from all folds)\n",
    "    cv_score = np.mean(cross_val_score(pipe, X_train_transformed.toarray(), y_train, cv = 5))\n",
    "    \n",
    "    MS_cross_validation_scores.append(cv_score)"
   ]
  },
  {
   "cell_type": "code",
   "execution_count": 96,
   "metadata": {},
   "outputs": [
    {
     "data": {
      "image/png": "[encoded data removed]",
      "text/plain": [
       "<Figure size 432x288 with 1 Axes>"
      ]
     },
     "metadata": {
      "needs_background": "light"
     },
     "output_type": "display_data"
    }
   ],
   "source": [
    "plt.figure()\n",
    "plt.plot(Min_Samples_range, MS_cross_validation_scores,label=\"Cross Validation Score\",marker='.')\n",
    "plt.legend()\n",
    "plt.xlabel('Minimum Samples Per Leaf Node')\n",
    "plt.ylabel('Cross Validation Score')\n",
    "plt.grid()\n",
    "plt.show();"
   ]
  },
  {
   "cell_type": "code",
   "execution_count": 108,
   "metadata": {},
   "outputs": [
    {
     "name": "stdout",
     "output_type": "stream",
     "text": [
      "The best model that uses a PCA, DT pipeline has a Max_Depth of 10 & a Min Sample Quantity of 11 with a model performance of: 74.02 %\n"
     ]
    }
   ],
   "source": [
    "MS_which_max = np.array(MS_cross_validation_scores).argmax()\n",
    "\n",
    "print(\"The best model that uses a PCA, DT pipeline has a Max_Depth of 10 & a Min Sample Quantity of\",Mini_Samples_range[MS_which_max], 'with a model performance of:', round(max(Mscross_validation_scores),4)*100, '%')\n",
    "print(\"Conversely, our best Logistic Regression model has a C of\",C_range[C_which_max],'with a model performance of:', round(max(C_cross_validation_scores),4)*100, '%' )"
   ]
  },
  {
   "cell_type": "markdown",
   "metadata": {},
   "source": [
    "Since our logistic regression model performed beter than our pipeline model lets explore it further with the use of a confusion matrix"
   ]
  },
  {
   "cell_type": "code",
   "execution_count": 145,
   "metadata": {},
   "outputs": [
    {
     "name": "stdout",
     "output_type": "stream",
     "text": [
      "Train score: 0.7803033660557981\n",
      "Test score: 0.7812334380372539\n"
     ]
    }
   ],
   "source": [
    "# Rebuilding the model based on hyperparameter optimization and comparrison results\n",
    "logreg = LogisticRegression(C = 0.1, random_state = 1)\n",
    "logreg.fit(X_train_transformed, y_train)\n",
    "\n",
    "# Training and test score\n",
    "print(f\"Train score: {logreg.score(X_train_transformed, y_train)}\")\n",
    "print(f\"Test score: {logreg.score(X_test_transformed, y_test)}\")"
   ]
  },
  {
   "cell_type": "code",
   "execution_count": 146,
   "metadata": {},
   "outputs": [
    {
     "data": {
      "text/html": [
       "<div>\n",
       "<style scoped>\n",
       "    .dataframe tbody tr th:only-of-type {\n",
       "        vertical-align: middle;\n",
       "    }\n",
       "\n",
       "    .dataframe tbody tr th {\n",
       "        vertical-align: top;\n",
       "    }\n",
       "\n",
       "    .dataframe thead th {\n",
       "        text-align: right;\n",
       "    }\n",
       "</style>\n",
       "<table border=\"1\" class=\"dataframe\">\n",
       "  <thead>\n",
       "    <tr style=\"text-align: right;\">\n",
       "      <th></th>\n",
       "      <th>Predicted Negative Sentinment</th>\n",
       "      <th>Predicted Positive Sentinment</th>\n",
       "    </tr>\n",
       "  </thead>\n",
       "  <tbody>\n",
       "    <tr>\n",
       "      <th>True Negative Sentinment</th>\n",
       "      <td>47114</td>\n",
       "      <td>19504</td>\n",
       "    </tr>\n",
       "    <tr>\n",
       "      <th>True Positive Sentinment</th>\n",
       "      <td>14344</td>\n",
       "      <td>73760</td>\n",
       "    </tr>\n",
       "  </tbody>\n",
       "</table>\n",
       "</div>"
      ],
      "text/plain": [
       "                          Predicted Negative Sentinment  \\\n",
       "True Negative Sentinment                          47114   \n",
       "True Positive Sentinment                          14344   \n",
       "\n",
       "                          Predicted Positive Sentinment  \n",
       "True Negative Sentinment                          19504  \n",
       "True Positive Sentinment                          73760  "
      ]
     },
     "metadata": {},
     "output_type": "display_data"
    }
   ],
   "source": [
    "y_pred = logreg.predict(X_test_transformed)\n",
    "\n",
    "# Generate confusion matrix\n",
    "cf_matrix = confusion_matrix(y_test, y_pred)\n",
    "\n",
    "# label rows and columns (Negative sentiment is 0 and Postive Sentiment is 1)\n",
    "cf_df = pd.DataFrame(\n",
    "    cf_matrix, \n",
    "    columns=[\"Predicted Negative Sentinment\", \"Predicted Positive Sentinment\"],\n",
    "    index=[\"True Negative Sentinment\", \"True Positive Sentinment\"]\n",
    ")\n",
    "\n",
    "display(cf_df)"
   ]
  },
  {
   "cell_type": "code",
   "execution_count": 114,
   "metadata": {},
   "outputs": [
    {
     "data": {
      "image/png": "[encoded data removed]",
      "text/plain": [
       "<Figure size 432x288 with 2 Axes>"
      ]
     },
     "metadata": {
      "needs_background": "light"
     },
     "output_type": "display_data"
    }
   ],
   "source": [
    "# the function expects the estimator, inputs and target as parameters\n",
    "ConfusionMatrixDisplay.from_estimator(logreg, X_test_transformed, y_test);"
   ]
  },
  {
   "cell_type": "code",
   "execution_count": 123,
   "metadata": {},
   "outputs": [
    {
     "name": "stdout",
     "output_type": "stream",
     "text": [
      "{'Percent Accuracy': 78.12, 'Precision': 0.79, 'Sensitivity_recall': 0.84, 'Specificity': 0.71, 'F1_score': 0.81}\n"
     ]
    }
   ],
   "source": [
    "Accuracy = round(metrics.accuracy_score(y_test, y_pred) * 100, 2)\n",
    "Precision = round(metrics.precision_score(y_test, y_pred), 2)\n",
    "Sensitivity_recall = round(metrics.recall_score(y_test, y_pred),2)\n",
    "Specificity = round(metrics.recall_score(y_test, y_pred, pos_label=0),2)\n",
    "F1_score = round(metrics.f1_score(y_test, y_pred),2)\n",
    "\n",
    "#metrics:\n",
    "print({\"Percent Accuracy\":Accuracy,\"Precision\":Precision,\"Sensitivity_recall\":Sensitivity_recall,\"Specificity\":Specificity,\"F1_score\":F1_score})\n"
   ]
  },
  {
   "cell_type": "markdown",
   "metadata": {},
   "source": [
    "## Confusion Matrix Anaysis <a class=\"anchor\" id=\"Con\"></a>"
   ]
  },
  {
   "cell_type": "markdown",
   "metadata": {},
   "source": [
    "### Interpretation:\n",
    "\n",
    "   ***Accuracy:*** The model is correctly predicting sentiments with an overall accuracy calculated from both positive and negative sentiments.\n",
    "\n",
    "   ***Precision (Positive Sentiment):*** Of all the instances predicted as positive, around 79% are actually positive.\n",
    "\n",
    "   ***Recall (Positive Sentiment):*** The model correctly identifies approximately 84% of the actual positive sentiments.\n",
    "\n",
    "   ***Specificity (Negative Sentiment):*** The model correctly identifies around 71% of the actual negative sentiments.\n",
    "\n",
    "   ***False Positive Rate (FPR):*** About 29% of actual negative sentiments are incorrectly classified as positive.\n",
    "\n",
    "   ***False Negative Rate (FNR):*** Approximately 16% of actual positive sentiments are incorrectly classified as negative.\n",
    "\n",
    "### Conclusion:\n",
    "\n",
    "The model seems to have a reasonable balance between precision and recall for positive sentiment prediction. It is important for Hotel Inc to consider the specific goals and costs associated with false positives and false negatives for them to implement this model into their business"
   ]
  },
  {
   "cell_type": "markdown",
   "metadata": {},
   "source": [
    "If Hotel Inc requires a more accurate classification model, different modeling techniques like ensembles and extended grids of hyperparameters may lead to more accurate models however these models come with the added cost of increased time to build and train them as well as the additional processing energy needed to run them."
   ]
  },
  {
   "cell_type": "code",
   "execution_count": null,
   "metadata": {},
   "outputs": [],
   "source": []
  }
 ],
 "metadata": {
  "kernelspec": {
   "display_name": "Python 3",
   "language": "python",
   "name": "python3"
  },
  "language_info": {
   "codemirror_mode": {
    "name": "ipython",
    "version": 3
   },
   "file_extension": ".py",
   "mimetype": "text/x-python",
   "name": "python",
   "nbconvert_exporter": "python",
   "pygments_lexer": "ipython3",
   "version": "3.7.6"
  }
 },
 "nbformat": 4,
 "nbformat_minor": 4
}
